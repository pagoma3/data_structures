{
 "cells": [
  {
   "cell_type": "code",
   "execution_count": 1,
   "metadata": {},
   "outputs": [
    {
     "name": "stdout",
     "output_type": "stream",
     "text": [
      "[['Gener', 'Febrer', 'Març'], ['Abril', 'Maig', 'Juny'], ['Juliol', 'Agost', 'Septembre'], ['Octubre', 'Novembre', 'Desembre']]\n"
     ]
    }
   ],
   "source": [
    "trimestres = [\n",
    "    [\"Gener\", \"Febrer\", \"Març\"],\n",
    "    [\"Abril\", \"Maig\", \"Juny\"],\n",
    "    [\"Juliol\", \"Agost\", \"Septembre\"],\n",
    "    [\"Octubre\", \"Novembre\", \"Desembre\"],\n",
    "]\n",
    "print(trimestres)"
   ]
  },
  {
   "cell_type": "code",
   "execution_count": 3,
   "metadata": {},
   "outputs": [
    {
     "name": "stdout",
     "output_type": "stream",
     "text": [
      "Febrer\n",
      "['Gener', 'Febrer', 'Març']\n",
      "SeptembreOctubre\n"
     ]
    }
   ],
   "source": [
    "febrer = trimestres[0][1]\n",
    "primer = trimestres[0]\n",
    "septOct = trimestres[2][2] + trimestres[3][0]\n",
    "\n",
    "print(febrer)\n",
    "print(primer)\n",
    "print(septOct)"
   ]
  },
  {
   "cell_type": "code",
   "execution_count": 10,
   "metadata": {},
   "outputs": [
    {
     "name": "stdout",
     "output_type": "stream",
     "text": [
      "14\n",
      "2\n",
      "3\n",
      "9\n",
      "[0, 1, 1]\n",
      "9\n"
     ]
    }
   ],
   "source": [
    "llista = [0, 2, 1, 1, 3, 7, 5, 8, 3, 4, 6, 2, 9, 2]\n",
    "\n",
    "llargaria = print(len(llista))\n",
    "\n",
    "vegades3 = print(llista.count(3))\n",
    "\n",
    "vegades3i4 = print(llista.count(3) + llista.count(4))\n",
    "\n",
    "llista.sort()\n",
    "\n",
    "mesgran = print(llista[-1])\n",
    "\n",
    "mespetits3 = print(llista[0:3])\n",
    "\n",
    "rang = print(llista[-1] - llista[0])"
   ]
  },
  {
   "cell_type": "code",
   "execution_count": 13,
   "metadata": {},
   "outputs": [
    {
     "name": "stdout",
     "output_type": "stream",
     "text": [
      "{'Pomes': {'Qty': 5, '€': 0.42}, 'Peres': {'Qty': 3, '€': 0.66}, 'Taronges': {'Qty': 12, '€': 1.22}}\n",
      "1.98\n",
      "20\n",
      "3\n"
     ]
    }
   ],
   "source": [
    "compra = { \"Pomes\" : {\"Qty\": 5, \"€\": 0.42}, \"Peres\" : {\"Qty\": 3, \"€\": 0.66} }\n",
    "\n",
    "compra[\"Taronges\"] = {\"Qty\": 12, \"€\": 1.22}\n",
    "\n",
    "preuPeres = compra[\"Peres\"][\"Qty\"] * compra[\"Peres\"][\"€\"]\n",
    "\n",
    "print(compra)\n",
    "\n",
    "print(preuPeres)\n",
    "\n",
    "\n",
    "quantitat = compra[\"Peres\"][\"Qty\"] + compra[\"Pomes\"][\"Qty\"] + compra[\"Taronges\"][\"Qty\"]\n",
    "\n",
    "print(quantitat)\n",
    "\n",
    "mesCara = print(compra[\"Peres\"][\"Qty\"])"
   ]
  }
 ],
 "metadata": {
  "kernelspec": {
   "display_name": "Python 3",
   "language": "python",
   "name": "python3"
  },
  "language_info": {
   "codemirror_mode": {
    "name": "ipython",
    "version": 3
   },
   "file_extension": ".py",
   "mimetype": "text/x-python",
   "name": "python",
   "nbconvert_exporter": "python",
   "pygments_lexer": "ipython3",
   "version": "3.8.5"
  }
 },
 "nbformat": 4,
 "nbformat_minor": 4
}
