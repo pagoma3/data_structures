{
 "cells": [
  {
   "cell_type": "markdown",
   "metadata": {},
   "source": [
    "# Sprint 3, Task 1: Data Structures\n",
    "\n",
    "## Level 1\n",
    "\n",
    "### Exercice 1\n",
    "\n",
    "Create a list grouping months of the year in quarters, meaning a list with 4 lists within.\n"
   ]
  },
  {
   "cell_type": "code",
   "execution_count": 1,
   "metadata": {
    "ExecuteTime": {
     "end_time": "2021-09-29T09:34:21.817499Z",
     "start_time": "2021-09-29T09:34:21.806695Z"
    }
   },
   "outputs": [
    {
     "name": "stdout",
     "output_type": "stream",
     "text": [
      "[['January', 'February', 'March'], ['April', 'May', 'June'], ['July', 'August', 'September'], ['October', 'November', 'December']]\n"
     ]
    }
   ],
   "source": [
    "# Create lists\n",
    "\n",
    "quarters = [\n",
    "    [\"January\", \"February\", \"March\"],\n",
    "    [\"April\", \"May\", \"June\"],\n",
    "    [\"July\", \"August\", \"September\"],\n",
    "    [\"October\", \"November\", \"December\"],\n",
    "]\n",
    "print(quarters)"
   ]
  },
  {
   "cell_type": "markdown",
   "metadata": {},
   "source": [
    "### Exercice 2\n",
    "\n",
    "Create a code that allows accessing:\n",
    "\n",
    "· The second month of the first quarter\n",
    "\n",
    "· Months of the first quarter\n",
    "\n",
    "· September and October"
   ]
  },
  {
   "cell_type": "code",
   "execution_count": 2,
   "metadata": {
    "ExecuteTime": {
     "end_time": "2021-09-29T09:34:21.834461Z",
     "start_time": "2021-09-29T09:34:21.822947Z"
    }
   },
   "outputs": [
    {
     "name": "stdout",
     "output_type": "stream",
     "text": [
      "February\n",
      "['January', 'February', 'March']\n",
      "SeptemberOctober\n"
     ]
    }
   ],
   "source": [
    "february = quarters[0][1]\n",
    "first_Q = quarters[0]\n",
    "septOct = quarters[2][2] + quarters[3][0]\n",
    "\n",
    "print(february)\n",
    "print(first_Q)\n",
    "print(septOct)"
   ]
  },
  {
   "cell_type": "markdown",
   "metadata": {},
   "source": [
    "### Exercise 3\n",
    "\n",
    "Create a list with unordered numbers and answer the following questions:\n",
    "\n",
    "· How many numbers are there?\n",
    "\n",
    "· How many times does the number 3 appear?\n",
    "\n",
    "· How many times do numbers 3 and 4 appear?\n",
    "\n",
    "· What is the largest number?\n",
    "\n",
    "· Which are the 3 smallest numbers?\n",
    "\n",
    "· What is the range of this list?\n"
   ]
  },
  {
   "cell_type": "code",
   "execution_count": 3,
   "metadata": {
    "ExecuteTime": {
     "end_time": "2021-09-29T09:34:21.854623Z",
     "start_time": "2021-09-29T09:34:21.839569Z"
    }
   },
   "outputs": [
    {
     "name": "stdout",
     "output_type": "stream",
     "text": [
      "Number of numbers: 14\n",
      "Frequency of the number 3: 2\n",
      "Frequency of the numbers 3 & 4 combined : 3\n",
      "Largest number: 9\n",
      "Smallest 3 numbers: [0, 1, 1]\n",
      "Range of the list: 9\n"
     ]
    }
   ],
   "source": [
    "# Create list\n",
    "\n",
    "numbers = [0, 2, 1, 1, 3, 7, 5, 8, 3, 4, 6, 2, 9, 2]\n",
    "\n",
    "print(\"Number of numbers: \" + str(len(numbers)))\n",
    "\n",
    "print(\"Frequency of the number 3: \" + str(numbers.count(3)))\n",
    "\n",
    "print(\"Frequency of the numbers 3 & 4 combined : \" + str(numbers.count(3) + numbers.count(4)))\n",
    "\n",
    "numbers.sort()\n",
    "\n",
    "print(\"Largest number: \" + str(numbers[-1]))\n",
    "\n",
    "print(\"Smallest 3 numbers: \" + str(numbers[0:3]))\n",
    "\n",
    "print(\"Range of the list: \" + str(numbers[-1] - numbers[0]))"
   ]
  },
  {
   "cell_type": "markdown",
   "metadata": {},
   "source": [
    "### Exercise 4\n",
    "\n",
    "Create a dictionary in the following format and answer the questions:\n",
    "\n",
    "groceries = { \"Apples\" : {\"Qty\": 5, \"€\": 0.42}, \"Pears\" : {\"Qty\": 3, \"€\": 0.66} }\n",
    "\n",
    "· Add another fruit\n",
    "\n",
    "· How much did the pears cost overall\n",
    "\n",
    "· How many fruits were bought in total?\n",
    "\n",
    "· What is the most expensive fruit?"
   ]
  },
  {
   "cell_type": "code",
   "execution_count": 4,
   "metadata": {
    "ExecuteTime": {
     "end_time": "2021-09-29T09:34:21.897146Z",
     "start_time": "2021-09-29T09:34:21.871462Z"
    }
   },
   "outputs": [
    {
     "name": "stdout",
     "output_type": "stream",
     "text": [
      "Overall Pears cost: 1.98\n",
      "Number of fruits bought: 20\n",
      "The most expensive fruit overall are Oranges, to a total price of: 14.64\n"
     ]
    }
   ],
   "source": [
    "# Create dictionary:\n",
    "\n",
    "groceries = { \"Apples\" : {\"Qty\": 5, \"€\": 0.42}, \"Pears\" : {\"Qty\": 3, \"€\": 0.66} }\n",
    "\n",
    "# Add Oranges:\n",
    "\n",
    "groceries[\"Oranges\"] = {\"Qty\": 12, \"€\": 1.22}\n",
    "\n",
    "# Overall Pear cost:\n",
    "\n",
    "pears_price = groceries[\"Pears\"][\"Qty\"] * groceries[\"Pears\"][\"€\"]\n",
    "\n",
    "print(\"Overall Pears cost: \" + str(pears_price))\n",
    "\n",
    "# Quantity of fruits bought:\n",
    "\n",
    "quantity = groceries[\"Pears\"][\"Qty\"] + groceries[\"Apples\"][\"Qty\"] + groceries[\"Oranges\"][\"Qty\"]\n",
    "\n",
    "print(\"Number of fruits bought: \" + str(quantity))\n",
    "\n",
    "# Most expensive fruit:\n",
    "\n",
    "oranges_price = groceries[\"Oranges\"][\"Qty\"] * groceries[\"Oranges\"][\"€\"]\n",
    "\n",
    "print(\"The most expensive fruit overall are Oranges, to a total price of: \" + str(oranges_price))\n"
   ]
  }
 ],
 "metadata": {
  "kernelspec": {
   "display_name": "Python 3",
   "language": "python",
   "name": "python3"
  },
  "language_info": {
   "codemirror_mode": {
    "name": "ipython",
    "version": 3
   },
   "file_extension": ".py",
   "mimetype": "text/x-python",
   "name": "python",
   "nbconvert_exporter": "python",
   "pygments_lexer": "ipython3",
   "version": "3.8.8"
  },
  "varInspector": {
   "cols": {
    "lenName": 16,
    "lenType": 16,
    "lenVar": 40
   },
   "kernels_config": {
    "python": {
     "delete_cmd_postfix": "",
     "delete_cmd_prefix": "del ",
     "library": "var_list.py",
     "varRefreshCmd": "print(var_dic_list())"
    },
    "r": {
     "delete_cmd_postfix": ") ",
     "delete_cmd_prefix": "rm(",
     "library": "var_list.r",
     "varRefreshCmd": "cat(var_dic_list()) "
    }
   },
   "types_to_exclude": [
    "module",
    "function",
    "builtin_function_or_method",
    "instance",
    "_Feature"
   ],
   "window_display": false
  }
 },
 "nbformat": 4,
 "nbformat_minor": 4
}
